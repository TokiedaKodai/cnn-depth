{
 "cells": [
  {
   "cell_type": "code",
   "execution_count": 1,
   "metadata": {},
   "outputs": [],
   "source": [
    "import numpy as np\n",
    "import pandas as pd\n",
    "import matplotlib.pyplot as plt"
   ]
  },
  {
   "cell_type": "code",
   "execution_count": 9,
   "metadata": {},
   "outputs": [],
   "source": [
    "root_dir = './'\n",
    "data_dir = root_dir + 'output_archive/200123/'\n",
    "output_dir = 'output_'\n",
    "pred_dir = '/predict_1000'"
   ]
  },
  {
   "cell_type": "code",
   "execution_count": 38,
   "metadata": {},
   "outputs": [],
   "source": [
    "def get_index_depth(dirname, index=[], type='test', error='RMSE'):\n",
    "    df = pd.read_csv(dirname + '/error_compare.txt')\n",
    "    df = df[df['type']==type]\n",
    "    if len(index) is not 0:\n",
    "        df = df.loc[index]\n",
    "    index = df['index'].astype(str).values\n",
    "    depth = np.array(df['{} depth'.format(error)])\n",
    "    mean_depth = np.mean(depth)\n",
    "    depth = np.append(depth, mean_depth)\n",
    "    index = np.append(index, 'Avg')\n",
    "    return index, depth"
   ]
  },
  {
   "cell_type": "code",
   "execution_count": 39,
   "metadata": {},
   "outputs": [],
   "source": [
    "def get_predict(dirname, index=[], type='test', error='RMSE'):\n",
    "    df = pd.read_csv(dirname + '/error_compare.txt')\n",
    "    df = df[df['type']==type]\n",
    "    if len(index) is not 0:\n",
    "        df = df.loc[index]\n",
    "    predict = np.array(df['{} predict'.format(error)])\n",
    "    mean_predict = np.mean(predict)\n",
    "    predict = np.append(predict, mean_predict)\n",
    "    return predict"
   ]
  },
  {
   "cell_type": "code",
   "execution_count": 10,
   "metadata": {},
   "outputs": [],
   "source": [
    "def get_list_dir(list_compares, data_dir, output_dir, pred_dir):\n",
    "    list_dir = []\n",
    "    for dir_name in list_compares:\n",
    "        list_dir.append(data_dir + output_dir + dir_name + pred_dir)\n",
    "    return list_dir"
   ]
  },
  {
   "cell_type": "code",
   "execution_count": 6,
   "metadata": {},
   "outputs": [],
   "source": [
    "def get_list_pred(list_dir):\n",
    "    list_pred = []\n",
    "    for directory in list_dir:\n",
    "        pred = get_predict(directory)\n",
    "        list_pred.append(pred)\n",
    "    return list_pred"
   ]
  },
  {
   "cell_type": "code",
   "execution_count": 47,
   "metadata": {},
   "outputs": [],
   "source": [
    "def gen_graph(label, depth, list_pred, list_compares, comp_name):\n",
    "    list_color = ['blue', 'orange', 'lightgreen', 'lightblue', 'red']\n",
    "    list_bar = []\n",
    "    list_legend = ['depth']\n",
    "    list_legend.extend(list_compares)\n",
    "\n",
    "    if comp_name is not '':\n",
    "        comp_name = '_' + comp_name\n",
    "\n",
    "    idx = np.array(range(len(label)))\n",
    "    width = 0.8 / len(list_legend)\n",
    "\n",
    "    plt.figure()\n",
    "    list_bar.append(plt.bar(idx-width, depth, width=width, align='edge', tick_label=label, color=list_color[0]))\n",
    "    for i, pred in enumerate(list_pred):\n",
    "        list_bar.append(plt.bar(idx+width*i, pred, width=width, align='edge', tick_label=label, color=list_color[i+1]))\n",
    "    plt.legend(list_bar, list_legend)\n",
    "    plt.title('Error Comparison')\n",
    "#     plt.title('No-fake data learning')\n",
    "    # plt.xlabel('Test data')\n",
    "    plt.xlabel('Fake test data')\n",
    "    plt.ylabel('RMSE [m]')\n",
    "    plt.tick_params(labelsize=7)\n",
    "    plt.savefig('errs_cmp{}.pdf'.format(comp_name))"
   ]
  },
  {
   "cell_type": "code",
   "execution_count": 11,
   "metadata": {},
   "outputs": [],
   "source": [
    "def compare_errors(list_compares, comp_name='', data_dir=data_dir, output_dir=output_dir, pred_dir=pred_dir):\n",
    "    list_dir = get_list_dir(list_compares, data_dir, output_dir, pred_dir)\n",
    "    label, depth = get_index_depth(list_dir[0])\n",
    "    list_pred = get_list_pred(list_dir)\n",
    "    gen_graph(label, depth, list_pred, list_compares, comp_name)"
   ]
  },
  {
   "cell_type": "code",
   "execution_count": 19,
   "metadata": {},
   "outputs": [],
   "source": [
    "dir1 = '../output_archive/200122/output_aug/predict_1000/'\n",
    "dir2 = '../output_archive/200123/output_aug/predict_1000/'"
   ]
  },
  {
   "cell_type": "code",
   "execution_count": 40,
   "metadata": {},
   "outputs": [
    {
     "data": {
      "text/plain": [
       "array(['44', '45', '46', '47', 'Avg'], dtype=object)"
      ]
     },
     "execution_count": 40,
     "metadata": {},
     "output_type": "execute_result"
    }
   ],
   "source": [
    "index=[44, 45, 46, 47]\n",
    "label, depth = get_index_depth(dir1, index)\n",
    "label"
   ]
  },
  {
   "cell_type": "code",
   "execution_count": 41,
   "metadata": {},
   "outputs": [],
   "source": [
    "pred1 = get_predict(dir1, index)\n",
    "pred2 = get_predict(dir2, index)"
   ]
  },
  {
   "cell_type": "code",
   "execution_count": 42,
   "metadata": {},
   "outputs": [
    {
     "data": {
      "text/plain": [
       "array([0.00078355, 0.00108117, 0.0006136 , 0.00083125, 0.00082739])"
      ]
     },
     "execution_count": 42,
     "metadata": {},
     "output_type": "execute_result"
    }
   ],
   "source": [
    "pred1"
   ]
  },
  {
   "cell_type": "code",
   "execution_count": 44,
   "metadata": {},
   "outputs": [
    {
     "data": {
      "text/plain": [
       "[array([0.00078355, 0.00108117, 0.0006136 , 0.00083125, 0.00082739]),\n",
       " array([0.00143739, 0.00158865, 0.00117359, 0.00144867, 0.00141207])]"
      ]
     },
     "execution_count": 44,
     "metadata": {},
     "output_type": "execute_result"
    }
   ],
   "source": [
    "list_pred = [pred1, pred2]\n",
    "list_pred"
   ]
  },
  {
   "cell_type": "code",
   "execution_count": 48,
   "metadata": {},
   "outputs": [
    {
     "data": {
      "image/png": "[encoded data removed]",
      "text/plain": [
       "<Figure size 432x288 with 1 Axes>"
      ]
     },
     "metadata": {
      "needs_background": "light"
     },
     "output_type": "display_data"
    }
   ],
   "source": [
    "gen_graph(label, depth, list_pred, ['fake data learn', 'no-fake data learn'], 'FakeLearn')"
   ]
  },
  {
   "cell_type": "code",
   "execution_count": null,
   "metadata": {},
   "outputs": [],
   "source": []
  }
 ],
 "metadata": {
  "kernelspec": {
   "display_name": "Python 3",
   "language": "python",
   "name": "python3"
  },
  "language_info": {
   "codemirror_mode": {
    "name": "ipython",
    "version": 3
   },
   "file_extension": ".py",
   "mimetype": "text/x-python",
   "name": "python",
   "nbconvert_exporter": "python",
   "pygments_lexer": "ipython3",
   "version": "3.6.8"
  }
 },
 "nbformat": 4,
 "nbformat_minor": 2
}
