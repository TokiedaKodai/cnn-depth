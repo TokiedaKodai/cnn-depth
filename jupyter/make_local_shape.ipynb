{
 "cells": [
  {
   "cell_type": "code",
   "execution_count": 1,
   "metadata": {},
   "outputs": [],
   "source": [
    "import numpy as np\n",
    "import cv2\n",
    "\n",
    "import depth_tools as tool"
   ]
  },
  {
   "cell_type": "code",
   "execution_count": 2,
   "metadata": {},
   "outputs": [],
   "source": [
    "DIR = '../../data/real/'\n",
    "OUT = '../../output/make_local_shape/'\n",
    "size = 128"
   ]
  },
  {
   "cell_type": "code",
   "execution_count": 3,
   "metadata": {},
   "outputs": [],
   "source": [
    "idx = 0\n",
    "x = 400\n",
    "y = 750\n",
    "\n",
    "shade = cv2.imread(DIR + 'shade/{:05d}.png'.format(idx), 0)\n",
    "shade = shade[y:y+size, x:x+size]\n",
    "depth = cv2.imread(DIR + 'rec/{:05d}.bmp'.format(idx), -1)\n",
    "depth = tool.unpack_bmp_bgra_to_float(depth[y:y+size, x:x+size])\n",
    "gt = cv2.imread(DIR + 'gt/{:05d}.bmp'.format(idx), -1)\n",
    "gt = tool.unpack_bmp_bgra_to_float(gt[y:y+size, x:x+size])\n",
    "\n",
    "diff = depth - gt"
   ]
  },
  {
   "cell_type": "code",
   "execution_count": 4,
   "metadata": {},
   "outputs": [],
   "source": [
    "i = 0\n",
    "cv2.imwrite(OUT + 'local_shape_shade-{:03d}.png'.format(i), shade)\n",
    "np.save(OUT + 'local_shape_z-{:03d}.npy'.format(i), diff)"
   ]
  },
  {
   "cell_type": "code",
   "execution_count": 5,
   "metadata": {},
   "outputs": [
    {
     "data": {
      "text/plain": [
       "array([[ 1.43492222e-03,  1.81496143e-03,  1.50489807e-03,\n",
       "         7.94887543e-04, -1.25050545e-04, -2.35080719e-04,\n",
       "        -2.45094299e-04, -3.55124474e-04, -4.55021858e-04,\n",
       "         1.34944916e-04],\n",
       "       [ 1.74498558e-03,  1.83498859e-03,  1.31487846e-03,\n",
       "         6.04987144e-04, -1.15036964e-04, -3.25083733e-04,\n",
       "        -2.35080719e-04, -4.45127487e-04, -3.45110893e-04,\n",
       "         4.49419022e-05],\n",
       "       [ 1.76501274e-03,  2.14493275e-03,  1.62494183e-03,\n",
       "         9.14931297e-04, -1.95026398e-04, -5.15103340e-04,\n",
       "        -1.25050545e-04, -2.35080719e-04, -3.50475311e-05,\n",
       "         1.54972076e-04],\n",
       "       [ 2.07495689e-03,  2.25496292e-03,  1.54495239e-03,\n",
       "         8.24928284e-04, -8.49962234e-05, -4.05073166e-04,\n",
       "        -1.50203705e-05, -1.25050545e-04, -2.35080719e-04,\n",
       "        -3.50475311e-05],\n",
       "       [ 2.18498707e-03,  2.46500969e-03,  1.75499916e-03,\n",
       "         1.03497505e-03, -7.49826431e-05, -9.50098038e-05,\n",
       "        -5.00679016e-06, -1.15036964e-04, -3.25083733e-04,\n",
       "        -2.35080719e-04],\n",
       "       [ 1.99496746e-03,  2.17497349e-03,  1.66499615e-03,\n",
       "         9.44972038e-04,  3.49283218e-05,  1.50203705e-05,\n",
       "        -9.50098038e-05, -2.05039978e-04, -5.14984131e-04,\n",
       "        -3.24964523e-04],\n",
       "       [ 1.80506706e-03,  2.18498707e-03,  1.87504292e-03,\n",
       "         1.15501881e-03,  1.34944916e-04,  2.50339508e-05,\n",
       "         1.50203705e-05, -9.50098038e-05, -2.05039978e-04,\n",
       "        -1.15036964e-04],\n",
       "       [ 1.72495842e-03,  1.89507008e-03,  1.87504292e-03,\n",
       "         1.06501579e-03,  1.44958496e-04, -1.64985657e-04,\n",
       "        -1.74999237e-04, -2.85029411e-04, -3.05056572e-04,\n",
       "        -5.00679016e-06],\n",
       "       [ 1.73497200e-03,  1.91497803e-03,  1.89495087e-03,\n",
       "         9.74893570e-04,  5.49554825e-05, -4.55021858e-04,\n",
       "        -2.75015831e-04, -3.85046005e-04, -4.94956970e-04,\n",
       "        -1.05023384e-04],\n",
       "       [ 1.74498558e-03,  1.81496143e-03,  1.79493427e-03,\n",
       "         7.74860382e-04,  6.48498535e-05, -6.54935837e-04,\n",
       "        -4.65035439e-04, -5.75065613e-04, -5.85079193e-04,\n",
       "        -3.95059586e-04]])"
      ]
     },
     "execution_count": 5,
     "metadata": {},
     "output_type": "execute_result"
    }
   ],
   "source": [
    "diff[:10, :10]"
   ]
  },
  {
   "cell_type": "code",
   "execution_count": 6,
   "metadata": {},
   "outputs": [
    {
     "data": {
      "text/plain": [
       "0.0020238331344444305"
      ]
     },
     "execution_count": 6,
     "metadata": {},
     "output_type": "execute_result"
    }
   ],
   "source": [
    "np.mean(diff)"
   ]
  },
  {
   "cell_type": "code",
   "execution_count": 7,
   "metadata": {},
   "outputs": [
    {
     "data": {
      "text/plain": [
       "0.006284952163696289"
      ]
     },
     "execution_count": 7,
     "metadata": {},
     "output_type": "execute_result"
    }
   ],
   "source": [
    "np.max(diff)"
   ]
  },
  {
   "cell_type": "code",
   "execution_count": 8,
   "metadata": {},
   "outputs": [
    {
     "data": {
      "text/plain": [
       "-0.004065036773681641"
      ]
     },
     "execution_count": 8,
     "metadata": {},
     "output_type": "execute_result"
    }
   ],
   "source": [
    "np.min(diff)"
   ]
  },
  {
   "cell_type": "code",
   "execution_count": 9,
   "metadata": {},
   "outputs": [
    {
     "data": {
      "text/plain": [
       "(128, 128)"
      ]
     },
     "execution_count": 9,
     "metadata": {},
     "output_type": "execute_result"
    }
   ],
   "source": [
    "diff.shape"
   ]
  },
  {
   "cell_type": "code",
   "execution_count": 10,
   "metadata": {},
   "outputs": [],
   "source": [
    "idx = 0\n",
    "x = 700\n",
    "y = 750\n",
    "\n",
    "shade = cv2.imread(DIR + 'shade/{:05d}.png'.format(idx), 0)\n",
    "shade = shade[y:y+size, x:x+size]\n",
    "depth = cv2.imread(DIR + 'rec/{:05d}.bmp'.format(idx), -1)\n",
    "depth = tool.unpack_bmp_bgra_to_float(depth[y:y+size, x:x+size])\n",
    "gt = cv2.imread(DIR + 'gt/{:05d}.bmp'.format(idx), -1)\n",
    "gt = tool.unpack_bmp_bgra_to_float(gt[y:y+size, x:x+size])\n",
    "\n",
    "diff = depth - gt\n",
    "\n",
    "i = 1\n",
    "cv2.imwrite(OUT + 'local_shape_shade-{:03d}.png'.format(i), shade)\n",
    "np.save(OUT + 'local_shape_z-{:03d}.npy'.format(i), diff)"
   ]
  },
  {
   "cell_type": "code",
   "execution_count": 14,
   "metadata": {},
   "outputs": [
    {
     "data": {
      "text/plain": [
       "10.0"
      ]
     },
     "execution_count": 14,
     "metadata": {},
     "output_type": "execute_result"
    }
   ],
   "source": [
    "log1 = np.log2(1024)\n",
    "log1"
   ]
  },
  {
   "cell_type": "code",
   "execution_count": 15,
   "metadata": {},
   "outputs": [
    {
     "data": {
      "text/plain": [
       "7.0"
      ]
     },
     "execution_count": 15,
     "metadata": {},
     "output_type": "execute_result"
    }
   ],
   "source": [
    "log2 = np.log2(128)\n",
    "log2"
   ]
  },
  {
   "cell_type": "code",
   "execution_count": 16,
   "metadata": {},
   "outputs": [
    {
     "data": {
      "text/plain": [
       "array([0.5488135 , 0.71518937, 0.60276338])"
      ]
     },
     "execution_count": 16,
     "metadata": {},
     "output_type": "execute_result"
    }
   ],
   "source": [
    "rand_state = np.random.RandomState(0)\n",
    "scales = rand_state.random_sample(3)\n",
    "scales"
   ]
  },
  {
   "cell_type": "code",
   "execution_count": 18,
   "metadata": {},
   "outputs": [
    {
     "data": {
      "text/plain": [
       "0.5488135039273248"
      ]
     },
     "execution_count": 18,
     "metadata": {},
     "output_type": "execute_result"
    }
   ],
   "source": [
    "np.min(scales[:2])"
   ]
  },
  {
   "cell_type": "code",
   "execution_count": null,
   "metadata": {},
   "outputs": [],
   "source": []
  }
 ],
 "metadata": {
  "kernelspec": {
   "display_name": "Python 3",
   "language": "python",
   "name": "python3"
  },
  "language_info": {
   "codemirror_mode": {
    "name": "ipython",
    "version": 3
   },
   "file_extension": ".py",
   "mimetype": "text/x-python",
   "name": "python",
   "nbconvert_exporter": "python",
   "pygments_lexer": "ipython3",
   "version": "3.6.8"
  }
 },
 "nbformat": 4,
 "nbformat_minor": 2
}
