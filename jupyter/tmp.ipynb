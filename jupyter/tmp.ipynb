{
 "cells": [
  {
   "cell_type": "code",
   "execution_count": 17,
   "metadata": {},
   "outputs": [
    {
     "data": {
      "text/plain": [
       "array([[140, 148,   0,   0,   0,   0,   0,   0,   0,   0],\n",
       "       [203, 169, 142,   0,   0,   0,   0,   0,   0,   0],\n",
       "       [137, 180, 205, 158,  25,   0,   0,   0,   0,   0],\n",
       "       [ 61,  85, 143, 185, 207,  28,   0,   0,   0,   0],\n",
       "       [ 89,  76,  61, 102, 148, 189,   0,   0,   0,   0],\n",
       "       [109, 101,  88,  74,  62,   0,   0,   0,   0,   0],\n",
       "       [204, 138, 107,   0,   0,   0,   0,   0,   0,   0],\n",
       "       [143, 152,   0,   0,   0,   0,   0,   0,   0,   0],\n",
       "       [205, 161, 102,   0,   0,   0,   0,   0,   0,   0],\n",
       "       [109, 176, 207, 159,   0,   0,   0,   0,   0,   0]], dtype=uint8)"
      ]
     },
     "execution_count": 17,
     "metadata": {},
     "output_type": "execute_result"
    }
   ],
   "source": [
    "import cv2\n",
    "\n",
    "img = cv2.imread('../../data/render_wave1_400/shade/00007.png', 0)\n",
    "p = img[610:620, 1340:1350]\n",
    "p"
   ]
  },
  {
   "cell_type": "code",
   "execution_count": 19,
   "metadata": {},
   "outputs": [
    {
     "data": {
      "text/plain": [
       "0"
      ]
     },
     "execution_count": 19,
     "metadata": {},
     "output_type": "execute_result"
    }
   ],
   "source": [
    "is_aug = '0'\n",
    "is_aug = int(is_aug)\n",
    "is_aug"
   ]
  },
  {
   "cell_type": "code",
   "execution_count": 20,
   "metadata": {},
   "outputs": [
    {
     "name": "stdout",
     "output_type": "stream",
     "text": [
      "0\n"
     ]
    }
   ],
   "source": [
    "if not is_aug:\n",
    "    print(0)"
   ]
  }
 ],
 "metadata": {
  "kernelspec": {
   "display_name": "Python 3",
   "language": "python",
   "name": "python3"
  },
  "language_info": {
   "codemirror_mode": {
    "name": "ipython",
    "version": 3
   },
   "file_extension": ".py",
   "mimetype": "text/x-python",
   "name": "python",
   "nbconvert_exporter": "python",
   "pygments_lexer": "ipython3",
   "version": "3.6.8"
  }
 },
 "nbformat": 4,
 "nbformat_minor": 2
}
