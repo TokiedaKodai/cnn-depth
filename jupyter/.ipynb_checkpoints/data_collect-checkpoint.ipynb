{
 "cells": [
  {
   "cell_type": "code",
   "execution_count": 1,
   "metadata": {},
   "outputs": [],
   "source": [
    "import depth_tools\n",
    "import cv2\n",
    "import numpy as np"
   ]
  },
  {
   "cell_type": "code",
   "execution_count": 2,
   "metadata": {},
   "outputs": [],
   "source": [
    "src_dir = '../../data/render_wave1-norm'\n",
    "\n",
    "out_dir = '../../data/render_wave1_board'\n",
    "\n",
    "src_frame_dir = src_dir + '/proj'\n",
    "src_gt_dir = src_dir + '/gt'\n",
    "src_shading_dir = src_dir + '/shade'\n",
    "src_rec_dir = src_dir + '/rec'\n",
    "\n",
    "out_frame_dir = out_dir + '/proj'\n",
    "out_gt_dir = out_dir + '/gt'\n",
    "out_shading_dir = out_dir + '/shade'\n",
    "out_rec_dir = out_dir + '/rec'"
   ]
  },
  {
   "cell_type": "code",
   "execution_count": 3,
   "metadata": {},
   "outputs": [
    {
     "name": "stdout",
     "output_type": "stream",
     "text": [
      "199\r"
     ]
    }
   ],
   "source": [
    "for data_idx in range(160, 200):\n",
    "    print(data_idx, end='\\r')\n",
    "    \n",
    "    src_bgra = src_frame_dir + '/{:05d}.png'.format(data_idx)\n",
    "    src_depth_gt = src_gt_dir + '/{:05d}.bmp'.format(data_idx)\n",
    "    src_shading = src_shading_dir + '/{:05d}.png'.format(data_idx)\n",
    "    src_depth_gap = src_rec_dir + '/{:05d}.bmp'.format(data_idx)\n",
    "\n",
    "    bgr = cv2.imread(src_bgra, -1)\n",
    "    depth_img_gap = cv2.imread(src_depth_gap, -1)\n",
    "    depth_img_gt = cv2.imread(src_depth_gt, -1)\n",
    "    shading_bgr = cv2.imread(src_shading, -1)\n",
    "    \n",
    "    data_idx += 40\n",
    "    \n",
    "    out_bgra = out_frame_dir + '/{:05d}.png'.format(data_idx)\n",
    "    out_depth_gt = out_gt_dir + '/{:05d}.bmp'.format(data_idx)\n",
    "    out_shading = out_shading_dir + '/{:05d}.png'.format(data_idx)\n",
    "    out_depth_gap = out_rec_dir + '/{:05d}.bmp'.format(data_idx)\n",
    "    \n",
    "    cv2.imwrite(out_bgra, bgr)\n",
    "    cv2.imwrite(out_depth_gt, depth_img_gt)\n",
    "    cv2.imwrite(out_shading, shading_bgr)\n",
    "    cv2.imwrite(out_depth_gap, depth_img_gap)"
   ]
  },
  {
   "cell_type": "code",
   "execution_count": 5,
   "metadata": {},
   "outputs": [],
   "source": [
    "src_dir = '../../data/input_200318'\n",
    "\n",
    "src_rec_dir = src_dir + '/rec'\n",
    "src_rec_dir = src_dir + '/rec_ajusted'\n",
    "src_frame_dir = src_dir + '/frame'\n",
    "src_gt_dir = src_dir + '/gt'\n",
    "src_shading_dir = src_dir + '/shading'"
   ]
  },
  {
   "cell_type": "code",
   "execution_count": 6,
   "metadata": {},
   "outputs": [
    {
     "name": "stdout",
     "output_type": "stream",
     "text": [
      "39\r"
     ]
    }
   ],
   "source": [
    "for data_idx in range(40):\n",
    "    print(data_idx, end='\\r')\n",
    "\n",
    "    src_bgra = src_frame_dir + '/frame{:03d}.png'.format(data_idx)\n",
    "    # src_depth_gap = src_rec_dir + '/depth{:03d}.png'.format(data_idx)\n",
    "    src_depth_gap = src_rec_dir + '/depth{:03d}.bmp'.format(data_idx)\n",
    "    src_depth_gt = src_gt_dir + '/gt{:03d}.bmp'.format(data_idx)\n",
    "    # src_shading = src_shading_dir + '/shading{:03d}.png'.format(data_idx)\n",
    "    src_shading = src_shading_dir + '/shading{:03d}.bmp'.format(data_idx)\n",
    "    \n",
    "    bgr = cv2.imread(src_bgra, -1)\n",
    "    depth_img_gap = cv2.imread(src_depth_gap, -1)\n",
    "    depth_img_gt = cv2.imread(src_depth_gt, -1)\n",
    "    shading_bgr = cv2.imread(src_shading, -1)\n",
    "    \n",
    "    data_idx += 160\n",
    "    \n",
    "    out_bgra = out_frame_dir + '/{:05d}.png'.format(data_idx)\n",
    "    out_depth_gt = out_gt_dir + '/{:05d}.bmp'.format(data_idx)\n",
    "    out_shading = out_shading_dir + '/{:05d}.png'.format(data_idx)\n",
    "    out_depth_gap = out_rec_dir + '/{:05d}.bmp'.format(data_idx)\n",
    "    \n",
    "    cv2.imwrite(out_bgra, bgr)\n",
    "    cv2.imwrite(out_depth_gt, depth_img_gt)\n",
    "    cv2.imwrite(out_shading, shading_bgr)\n",
    "    cv2.imwrite(out_depth_gap, depth_img_gap)"
   ]
  },
  {
   "cell_type": "code",
   "execution_count": null,
   "metadata": {},
   "outputs": [],
   "source": []
  }
 ],
 "metadata": {
  "kernelspec": {
   "display_name": "Python 3",
   "language": "python",
   "name": "python3"
  },
  "language_info": {
   "codemirror_mode": {
    "name": "ipython",
    "version": 3
   },
   "file_extension": ".py",
   "mimetype": "text/x-python",
   "name": "python",
   "nbconvert_exporter": "python",
   "pygments_lexer": "ipython3",
   "version": "3.6.8"
  }
 },
 "nbformat": 4,
 "nbformat_minor": 2
}
