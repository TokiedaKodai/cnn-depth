{
 "cells": [
  {
   "cell_type": "code",
   "execution_count": 44,
   "metadata": {},
   "outputs": [],
   "source": [
    "import numpy as np\n",
    "import cv2\n",
    "import random\n",
    "from PIL import Image\n",
    "import depth_tools"
   ]
  },
  {
   "cell_type": "code",
   "execution_count": 45,
   "metadata": {},
   "outputs": [],
   "source": [
    "def crop_center(pil_img, crop_width, crop_height):\n",
    "#     print(pil_img.shape)\n",
    "    img_width, img_height, _ = pil_img.shape\n",
    "    return pil_img[(img_width - crop_width) // 2:\n",
    "                    (img_height - crop_height) // 2,\n",
    "                    (img_width + crop_width) // 2:\n",
    "                    (img_height + crop_height) // 2, :]"
   ]
  },
  {
   "cell_type": "code",
   "execution_count": 79,
   "metadata": {},
   "outputs": [],
   "source": [
    "def augment_zoom(img):\n",
    "#     print(img.shape)\n",
    "    h, w, s = img.shape\n",
    "    zoom_range=[0.9, 1]\n",
    "    random.seed(int(np.sum(img[:, :, 1])))\n",
    "    scale = random.uniform(zoom_range[0], zoom_range[1])\n",
    "    print(scale)\n",
    "    resize_w, resize_h = int(w*scale), int(h*scale)\n",
    "    if resize_w % 2 == 1:\n",
    "        resize_w += 1\n",
    "    if resize_h % 2 == 1:\n",
    "        resize_h += 1\n",
    "        \n",
    "    x = cv2.resize(img, (resize_w, resize_h))\n",
    "\n",
    "    x = x / scale\n",
    "    print(resize_w, resize_h)\n",
    "    if scale > 1:\n",
    "        new_img = x[int((resize_h - h)/2): int((resize_h + h)/2),\n",
    "                   int((resize_w - w)/2): int((resize_w + w)/2), :]\n",
    "    else:\n",
    "        new_img = np.zeros_like(img)\n",
    "        new_img[int((h - resize_h)/2): int((h + resize_h)/2),\n",
    "                int((w - resize_w)/2): int((w + resize_w)/2), :] = x\n",
    "    print(new_img.shape)\n",
    "    return new_img"
   ]
  },
  {
   "cell_type": "code",
   "execution_count": 88,
   "metadata": {},
   "outputs": [
    {
     "name": "stdout",
     "output_type": "stream",
     "text": [
      "[[2.98023224e-08 2.98023224e-08 2.98023224e-08 ... 2.98023224e-08\n",
      "  2.98023224e-08 2.98023224e-08]\n",
      " [2.98023224e-08 2.98023224e-08 2.98023224e-08 ... 2.98023224e-08\n",
      "  2.98023224e-08 2.98023224e-08]\n",
      " [2.98023224e-08 2.98023224e-08 2.98023224e-08 ... 2.98023224e-08\n",
      "  2.98023224e-08 2.98023224e-08]\n",
      " ...\n",
      " [2.98023224e-08 2.98023224e-08 2.98023224e-08 ... 2.98023224e-08\n",
      "  2.98023224e-08 2.98023224e-08]\n",
      " [2.98023224e-08 2.98023224e-08 2.98023224e-08 ... 2.98023224e-08\n",
      "  2.98023224e-08 2.98023224e-08]\n",
      " [2.98023224e-08 2.98023224e-08 2.98023224e-08 ... 2.98023224e-08\n",
      "  2.98023224e-08 2.98023224e-08]]\n"
     ]
    }
   ],
   "source": [
    "data_dir = '../../data/input_200117/'\n",
    "rec_img = cv2.imread(data_dir + 'rec/depth001.png', -1)\n",
    "gt_img = cv2.imread(data_dir + 'gt/gt001.bmp', -1)\n",
    "shading = cv2.imread(data_dir + 'shading/shading000.png', -1)\n",
    "frame = cv2.imread(data_dir + 'frame/frame000.png', -1)\n",
    "# shading = cv2.imread('../../../tmp_program/sample_1.png', -1)\n",
    "# frame = cv2.imread('../../../tmp_program/sample_2.png', -1)\n",
    "\n",
    "rec = depth_tools.unpack_png_to_float(rec_img)\n",
    "gt = depth_tools.unpack_bmp_bgra_to_float(gt_img)\n",
    "print(gt)"
   ]
  },
  {
   "cell_type": "code",
   "execution_count": 89,
   "metadata": {},
   "outputs": [],
   "source": [
    "img = np.dstack([gt, rec])\n",
    "# img = np.dstack([frame, shading])"
   ]
  },
  {
   "cell_type": "code",
   "execution_count": 90,
   "metadata": {},
   "outputs": [
    {
     "name": "stdout",
     "output_type": "stream",
     "text": [
      "0.9323637338587499\n",
      "1118 1118\n",
      "(1200, 1200, 2)\n"
     ]
    }
   ],
   "source": [
    "new_img = augment_zoom(img)"
   ]
  },
  {
   "cell_type": "code",
   "execution_count": 91,
   "metadata": {},
   "outputs": [],
   "source": [
    "new_gt = new_img[:, :, 0]\n",
    "new_rec = new_img[:, :, 1]\n",
    "# new_frame = new_img[:, :, 0:3]\n",
    "# new_shading = new_img[:, :, 3:6]\n",
    "# new_frame = new_img[:, :, 0:4]\n",
    "# new_shading = new_img[:, :, 4:8]"
   ]
  },
  {
   "cell_type": "code",
   "execution_count": 92,
   "metadata": {},
   "outputs": [
    {
     "name": "stdout",
     "output_type": "stream",
     "text": [
      "(1200, 1200, 4)\n"
     ]
    }
   ],
   "source": [
    "new_gt_img = depth_tools.pack_float_to_bmp_bgra(new_gt)\n",
    "new_rec_img = depth_tools.pack_float_to_bmp_bgra(new_rec)\n",
    "print(new_gt_img.shape)\n",
    "# new_gt_img = new_gt\n",
    "# new_rec_img = new_rec"
   ]
  },
  {
   "cell_type": "code",
   "execution_count": 93,
   "metadata": {},
   "outputs": [
    {
     "data": {
      "text/plain": [
       "True"
      ]
     },
     "execution_count": 93,
     "metadata": {},
     "output_type": "execute_result"
    }
   ],
   "source": [
    "cv2.imwrite('new_gt1.bmp', new_gt_img)\n",
    "cv2.imwrite('new_rec1.bmp', new_rec_img)\n",
    "# cv2.imwrite('new_frame.png', new_frame)\n",
    "# cv2.imwrite('new_shading.png', new_shading)"
   ]
  },
  {
   "cell_type": "code",
   "execution_count": 94,
   "metadata": {},
   "outputs": [
    {
     "data": {
      "text/plain": [
       "array([[0., 0., 0., ..., 0., 0., 0.],\n",
       "       [0., 0., 0., ..., 0., 0., 0.],\n",
       "       [0., 0., 0., ..., 0., 0., 0.],\n",
       "       ...,\n",
       "       [0., 0., 0., ..., 0., 0., 0.],\n",
       "       [0., 0., 0., ..., 0., 0., 0.],\n",
       "       [0., 0., 0., ..., 0., 0., 0.]])"
      ]
     },
     "execution_count": 94,
     "metadata": {},
     "output_type": "execute_result"
    }
   ],
   "source": [
    "new_gt"
   ]
  },
  {
   "cell_type": "code",
   "execution_count": 95,
   "metadata": {},
   "outputs": [],
   "source": [
    "cam_params = {\n",
    "    'focal_length': 0.036640125,\n",
    "    'pix_x': 1.25e-05,\n",
    "    'pix_y': 1.2303973256411377e-05,\n",
    "    'center_x': 801.895,\n",
    "    'center_y': 602.872\n",
    "}\n",
    "xyz = depth_tools.convert_depth_to_coords(new_gt, cam_params)\n",
    "depth_tools.dump_ply('new_gt1.ply', xyz.reshape(-1, 3).tolist())"
   ]
  },
  {
   "cell_type": "code",
   "execution_count": 96,
   "metadata": {},
   "outputs": [
    {
     "data": {
      "text/plain": [
       "7"
      ]
     },
     "execution_count": 96,
     "metadata": {},
     "output_type": "execute_result"
    }
   ],
   "source": [
    "15//2"
   ]
  },
  {
   "cell_type": "code",
   "execution_count": 97,
   "metadata": {},
   "outputs": [
    {
     "data": {
      "text/plain": [
       "7.5"
      ]
     },
     "execution_count": 97,
     "metadata": {},
     "output_type": "execute_result"
    }
   ],
   "source": [
    "15/2"
   ]
  },
  {
   "cell_type": "code",
   "execution_count": null,
   "metadata": {},
   "outputs": [],
   "source": []
  }
 ],
 "metadata": {
  "kernelspec": {
   "display_name": "Python 3",
   "language": "python",
   "name": "python3"
  },
  "language_info": {
   "codemirror_mode": {
    "name": "ipython",
    "version": 3
   },
   "file_extension": ".py",
   "mimetype": "text/x-python",
   "name": "python",
   "nbconvert_exporter": "python",
   "pygments_lexer": "ipython3",
   "version": "3.6.8"
  }
 },
 "nbformat": 4,
 "nbformat_minor": 2
}
