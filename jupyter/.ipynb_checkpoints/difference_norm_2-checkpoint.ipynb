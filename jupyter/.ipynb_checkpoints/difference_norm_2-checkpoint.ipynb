{
 "cells": [
  {
   "cell_type": "code",
   "execution_count": 1,
   "metadata": {},
   "outputs": [],
   "source": [
    "import depth_tools\n",
    "import cv2\n",
    "import numpy as np"
   ]
  },
  {
   "cell_type": "code",
   "execution_count": 2,
   "metadata": {},
   "outputs": [],
   "source": [
    "src_dir = '../../data/render'\n",
    "\n",
    "src_frame_dir = src_dir + '/proj'\n",
    "src_gt_dir = src_dir + '/gt'\n",
    "src_shading_dir = src_dir + '/shade'\n",
    "src_rec_dir = src_dir + '/rec'"
   ]
  },
  {
   "cell_type": "code",
   "execution_count": 17,
   "metadata": {},
   "outputs": [],
   "source": [
    "depth_thre = 0.02\n",
    "difference_threshold = 0.1\n",
    "\n",
    "list_diff = []\n",
    "list_std = []\n",
    "list_norm = []"
   ]
  },
  {
   "cell_type": "code",
   "execution_count": 18,
   "metadata": {},
   "outputs": [
    {
     "name": "stdout",
     "output_type": "stream",
     "text": [
      "159\r"
     ]
    }
   ],
   "source": [
    "for data_idx in range(160):\n",
    "    print(data_idx, end='\\r')\n",
    "    src_bgra = src_frame_dir + '/{:05d}.png'.format(data_idx)\n",
    "    src_depth_gt = src_gt_dir + '/{:05d}.bmp'.format(data_idx)\n",
    "    src_shading = src_shading_dir + '/{:05d}.png'.format(data_idx)\n",
    "    src_depth_gap = src_rec_dir + '/{:05d}.bmp'.format(data_idx)\n",
    "    \n",
    "    depth_img_gap = cv2.imread(src_depth_gap, -1)\n",
    "    depth_gap = depth_tools.unpack_bmp_bgra_to_float(depth_img_gap)\n",
    "\n",
    "    depth_img_gt = cv2.imread(src_depth_gt, -1)\n",
    "    depth_gt = depth_tools.unpack_bmp_bgra_to_float(depth_img_gt)\n",
    "    \n",
    "    difference = depth_gt - depth_gap\n",
    "    \n",
    "    is_gt_available = depth_gt > depth_thre\n",
    "    is_depth_close = np.logical_and(np.abs(difference) < difference_threshold,\n",
    "                                is_gt_available)\n",
    "    mask = is_depth_close.astype(np.float32)\n",
    "    \n",
    "    length = np.sum(mask)\n",
    "    \n",
    "    mean_diff = np.sum(difference * mask) / length\n",
    "    list_diff.append(mean_diff)\n",
    "    \n",
    "    mean_difference = np.sum(difference * mask) / length\n",
    "    var_difference = np.sum(np.square((difference - mean_difference)*mask)) / length\n",
    "    std_difference = np.sqrt(var_difference)\n",
    "    difference = (difference - mean_difference) / std_difference\n",
    "    difference *= std_difference\n",
    "    difference *= mask\n",
    "    \n",
    "    list_std.append(std_difference)\n",
    "    \n",
    "    mean_diff = np.sum(difference) / length\n",
    "    list_norm.append(mean_diff)"
   ]
  },
  {
   "cell_type": "code",
   "execution_count": 19,
   "metadata": {},
   "outputs": [
    {
     "data": {
      "text/plain": [
       "[-7.781847370469651e-08,\n",
       " 1.0053648302954721e-08,\n",
       " -1.5198490055098417e-08,\n",
       " 1.183281653711051e-07,\n",
       " -1.4646030291006542e-08,\n",
       " 2.0129700402114485e-08,\n",
       " -9.799910728004972e-08,\n",
       " 3.407263771057865e-08,\n",
       " 2.4253754138046923e-08,\n",
       " -3.2018311861728174e-08]"
      ]
     },
     "execution_count": 19,
     "metadata": {},
     "output_type": "execute_result"
    }
   ],
   "source": [
    "list_diff[:10]"
   ]
  },
  {
   "cell_type": "code",
   "execution_count": 20,
   "metadata": {},
   "outputs": [
    {
     "data": {
      "text/plain": [
       "[1.2721527111927953e-19,\n",
       " 1.3329251517744473e-19,\n",
       " -3.4278880379734953e-20,\n",
       " 1.87229248752117e-19,\n",
       " 7.024126281504479e-20,\n",
       " -1.0036493444965182e-19,\n",
       " -1.8245596658927655e-20,\n",
       " -7.787145196700993e-21,\n",
       " 4.079382020108747e-19,\n",
       " -2.9669197162381805e-20]"
      ]
     },
     "execution_count": 20,
     "metadata": {},
     "output_type": "execute_result"
    }
   ],
   "source": [
    "list_norm[:10]"
   ]
  },
  {
   "cell_type": "code",
   "execution_count": 21,
   "metadata": {},
   "outputs": [
    {
     "data": {
      "text/plain": [
       "[0.0017832660720415012,\n",
       " 0.002118695136620736,\n",
       " 0.000985312222913682,\n",
       " 0.001643866216498621,\n",
       " 0.002118385247403382,\n",
       " 0.002235400458816463,\n",
       " 0.0029072692093503297,\n",
       " 0.0018537325704650212,\n",
       " 0.0029200805370287546,\n",
       " 0.0013702730106762667]"
      ]
     },
     "execution_count": 21,
     "metadata": {},
     "output_type": "execute_result"
    }
   ],
   "source": [
    "list_std[:10]"
   ]
  },
  {
   "cell_type": "code",
   "execution_count": 22,
   "metadata": {},
   "outputs": [
    {
     "data": {
      "text/plain": [
       "0.0019195375434992092"
      ]
     },
     "execution_count": 22,
     "metadata": {},
     "output_type": "execute_result"
    }
   ],
   "source": [
    "np.mean(list_std)"
   ]
  },
  {
   "cell_type": "code",
   "execution_count": 29,
   "metadata": {},
   "outputs": [
    {
     "name": "stdout",
     "output_type": "stream",
     "text": [
      "159\r"
     ]
    }
   ],
   "source": [
    "list_scale = []\n",
    "list_scale_std = []\n",
    "for data_idx in range(160):\n",
    "    print(data_idx, end='\\r')\n",
    "    src_bgra = src_frame_dir + '/{:05d}.png'.format(data_idx)\n",
    "    src_depth_gt = src_gt_dir + '/{:05d}.bmp'.format(data_idx)\n",
    "    src_shading = src_shading_dir + '/{:05d}.png'.format(data_idx)\n",
    "    src_depth_gap = src_rec_dir + '/{:05d}.bmp'.format(data_idx)\n",
    "    \n",
    "    depth_img_gap = cv2.imread(src_depth_gap, -1)\n",
    "    depth_gap = depth_tools.unpack_bmp_bgra_to_float(depth_img_gap)\n",
    "\n",
    "    depth_img_gt = cv2.imread(src_depth_gt, -1)\n",
    "    depth_gt = depth_tools.unpack_bmp_bgra_to_float(depth_img_gt)\n",
    "    \n",
    "    difference = depth_gt - depth_gap\n",
    "    \n",
    "    is_gt_available = depth_gt > depth_thre\n",
    "    is_depth_close = np.logical_and(np.abs(difference) < difference_threshold,\n",
    "                                is_gt_available)\n",
    "    mask = is_depth_close.astype(np.float32)\n",
    "    length = np.sum(mask)\n",
    "    \n",
    "    mean_difference = np.sum(difference * mask) / length\n",
    "    difference = (difference - mean_difference)*mask*1000\n",
    "    \n",
    "    mean_diff = np.sum(difference * mask) / length\n",
    "    list_scale.append(mean_diff)\n",
    "    \n",
    "    mean_difference = np.sum(difference * mask) / length\n",
    "    var_difference = np.sum(np.square((difference - mean_difference)*mask)) / length\n",
    "    std_difference = np.sqrt(var_difference)\n",
    "    difference = (difference - mean_difference) / std_difference\n",
    "    difference *= std_difference\n",
    "    difference *= mask\n",
    "    \n",
    "    list_scale_std.append(std_difference)"
   ]
  },
  {
   "cell_type": "code",
   "execution_count": 30,
   "metadata": {},
   "outputs": [
    {
     "data": {
      "text/plain": [
       "[1.783266072041501,\n",
       " 2.118695136620736,\n",
       " 0.985312222913682,\n",
       " 1.6438662164986209,\n",
       " 2.1183852474033817,\n",
       " 2.235400458816463,\n",
       " 2.9072692093503294,\n",
       " 1.8537325704650214,\n",
       " 2.920080537028756,\n",
       " 1.370273010676267]"
      ]
     },
     "execution_count": 30,
     "metadata": {},
     "output_type": "execute_result"
    }
   ],
   "source": [
    "list_scale_std[:10]"
   ]
  },
  {
   "cell_type": "code",
   "execution_count": 31,
   "metadata": {},
   "outputs": [
    {
     "data": {
      "text/plain": [
       "1.9195375434992095"
      ]
     },
     "execution_count": 31,
     "metadata": {},
     "output_type": "execute_result"
    }
   ],
   "source": [
    "np.mean(list_scale_std)"
   ]
  },
  {
   "cell_type": "code",
   "execution_count": null,
   "metadata": {},
   "outputs": [],
   "source": []
  }
 ],
 "metadata": {
  "kernelspec": {
   "display_name": "Python 3",
   "language": "python",
   "name": "python3"
  },
  "language_info": {
   "codemirror_mode": {
    "name": "ipython",
    "version": 3
   },
   "file_extension": ".py",
   "mimetype": "text/x-python",
   "name": "python",
   "nbconvert_exporter": "python",
   "pygments_lexer": "ipython3",
   "version": "3.6.8"
  }
 },
 "nbformat": 4,
 "nbformat_minor": 2
}
