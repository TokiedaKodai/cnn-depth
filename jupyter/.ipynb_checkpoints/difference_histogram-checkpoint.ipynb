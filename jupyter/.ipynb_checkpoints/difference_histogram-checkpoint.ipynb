{
 "cells": [
  {
   "cell_type": "code",
   "execution_count": 1,
   "metadata": {},
   "outputs": [],
   "source": [
    "import depth_tools\n",
    "import cv2\n",
    "import numpy as np"
   ]
  },
  {
   "cell_type": "code",
   "execution_count": 2,
   "metadata": {},
   "outputs": [],
   "source": [
    "src_dir = '../../data/render_wave1'\n",
    "\n",
    "src_frame_dir = src_dir + '/proj'\n",
    "src_gt_dir = src_dir + '/gt'\n",
    "src_shading_dir = src_dir + '/shade'\n",
    "src_rec_dir = src_dir + '/rec'"
   ]
  },
  {
   "cell_type": "code",
   "execution_count": 3,
   "metadata": {},
   "outputs": [],
   "source": [
    "depth_thre = 0.2\n",
    "difference_threshold = 0.01\n",
    "\n",
    "list_diff = []\n",
    "list_std = []\n",
    "list_norm = []"
   ]
  },
  {
   "cell_type": "code",
   "execution_count": 4,
   "metadata": {},
   "outputs": [
    {
     "name": "stdout",
     "output_type": "stream",
     "text": [
      "199\r"
     ]
    }
   ],
   "source": [
    "for data_idx in range(200):\n",
    "    print(data_idx, end='\\r')\n",
    "    src_bgra = src_frame_dir + '/{:05d}.png'.format(data_idx)\n",
    "    src_depth_gt = src_gt_dir + '/{:05d}.bmp'.format(data_idx)\n",
    "    src_shading = src_shading_dir + '/{:05d}.png'.format(data_idx)\n",
    "    src_depth_gap = src_rec_dir + '/{:05d}.bmp'.format(data_idx)\n",
    "    \n",
    "    depth_img_gap = cv2.imread(src_depth_gap, -1)\n",
    "    depth_gap = depth_tools.unpack_bmp_bgra_to_float(depth_img_gap)\n",
    "\n",
    "    depth_img_gt = cv2.imread(src_depth_gt, -1)\n",
    "    depth_gt = depth_tools.unpack_bmp_bgra_to_float(depth_img_gt)\n",
    "    \n",
    "    difference = depth_gt - depth_gap\n",
    "    \n",
    "    is_rec_available = depth_gap > depth_thre\n",
    "    is_depth_close = np.logical_and(np.abs(difference) < difference_threshold,\n",
    "                                is_rec_available)\n",
    "    mask = is_depth_close.astype(np.float32)\n",
    "    \n",
    "    length = np.sum(mask)\n",
    "    \n",
    "    mean_diff = np.sum(difference * mask) / length\n",
    "    list_diff.append(mean_diff)\n",
    "    \n",
    "    mean_difference = np.sum(difference * mask) / length\n",
    "    var_difference = np.sum(np.square((difference - mean_difference)*mask)) / length\n",
    "    std_difference = np.sqrt(var_difference)\n",
    "    difference = (difference - mean_difference) / std_difference\n",
    "    difference *= std_difference\n",
    "    difference *= mask\n",
    "    \n",
    "    list_std.append(std_difference)\n",
    "    \n",
    "    mean_diff = np.sum(difference) / length\n",
    "    list_norm.append(mean_diff)"
   ]
  },
  {
   "cell_type": "code",
   "execution_count": 5,
   "metadata": {},
   "outputs": [
    {
     "data": {
      "text/plain": [
       "[7.432932022474672e-08,\n",
       " 1.7990484948529077e-08,\n",
       " -2.9257409172563607e-08,\n",
       " -9.627398477590068e-09,\n",
       " 1.9626442737290328e-08,\n",
       " -1.73474049511097e-08,\n",
       " 5.964305124859962e-08,\n",
       " 3.386115012384667e-07,\n",
       " -4.460873573044611e-08,\n",
       " -1.7084092489756828e-08]"
      ]
     },
     "execution_count": 5,
     "metadata": {},
     "output_type": "execute_result"
    }
   ],
   "source": [
    "list_diff[:10]"
   ]
  },
  {
   "cell_type": "code",
   "execution_count": 6,
   "metadata": {},
   "outputs": [
    {
     "data": {
      "text/plain": [
       "[-5.2535559056134635e-20,\n",
       " -2.661153267206721e-20,\n",
       " -5.271756515216083e-20,\n",
       " -1.3703706694418442e-19,\n",
       " -1.7126894102813142e-20,\n",
       " 2.0596083892913907e-20,\n",
       " 2.278268503878756e-20,\n",
       " 3.817315191146834e-20,\n",
       " 3.081206863212618e-20,\n",
       " -5.712008975957383e-20]"
      ]
     },
     "execution_count": 6,
     "metadata": {},
     "output_type": "execute_result"
    }
   ],
   "source": [
    "list_norm[:10]"
   ]
  },
  {
   "cell_type": "code",
   "execution_count": 7,
   "metadata": {},
   "outputs": [
    {
     "data": {
      "text/plain": [
       "[0.0018335008451914481,\n",
       " 0.0015962550445424353,\n",
       " 0.0014865872935888073,\n",
       " 0.001767763216414584,\n",
       " 0.0006782465131949869,\n",
       " 0.0016238394076533024,\n",
       " 0.0007615464392104718,\n",
       " 0.001688315510349828,\n",
       " 0.0015678837277838214,\n",
       " 0.0017156496264867805]"
      ]
     },
     "execution_count": 7,
     "metadata": {},
     "output_type": "execute_result"
    }
   ],
   "source": [
    "list_std[:10]"
   ]
  },
  {
   "cell_type": "code",
   "execution_count": 8,
   "metadata": {},
   "outputs": [
    {
     "data": {
      "text/plain": [
       "0.0014337602698215107"
      ]
     },
     "execution_count": 8,
     "metadata": {},
     "output_type": "execute_result"
    }
   ],
   "source": [
    "np.mean(list_std)"
   ]
  },
  {
   "cell_type": "code",
   "execution_count": 9,
   "metadata": {},
   "outputs": [],
   "source": [
    "string = ''\n",
    "for i in range(200):\n",
    "    string += str(i) + ',' + str(list_std[i]) + '\\n'\n",
    "with open('list_sd_wave1.txt', mode='w') as f:\n",
    "    f.write(string)"
   ]
  },
  {
   "cell_type": "code",
   "execution_count": 10,
   "metadata": {},
   "outputs": [
    {
     "data": {
      "text/plain": [
       "[0, 0, 1, 23, 17, 8, 14, 40, 87, 10, 0, 0, 0, 0, 0, 0, 0]"
      ]
     },
     "execution_count": 10,
     "metadata": {},
     "output_type": "execute_result"
    }
   ],
   "source": [
    "list_hist = [0, 0, 0, 0, 0, 0, 0, 0, 0, 0, 0, 0, 0, 0, 0, 0, 0]\n",
    "inter = 0.0002\n",
    "for i in range(200):\n",
    "    for j in range(17):\n",
    "        if (list_std[i] > inter*j) and (list_std[i] < inter*(j+1)):\n",
    "            list_hist[j] += 1\n",
    "list_hist"
   ]
  },
  {
   "cell_type": "code",
   "execution_count": 11,
   "metadata": {},
   "outputs": [],
   "source": [
    "str_hist = ''\n",
    "scale = inter*1000\n",
    "for i in range(17):\n",
    "    str_hist += '{:.01f} - {:.01f},{}\\n'.format(scale*i, scale*(i+1), list_hist[i])\n",
    "with open('hist_sd_wave1.txt', mode='w') as f:\n",
    "    f.write(str_hist)"
   ]
  },
  {
   "cell_type": "code",
   "execution_count": null,
   "metadata": {},
   "outputs": [],
   "source": []
  },
  {
   "cell_type": "code",
   "execution_count": null,
   "metadata": {},
   "outputs": [],
   "source": []
  },
  {
   "cell_type": "code",
   "execution_count": 29,
   "metadata": {},
   "outputs": [
    {
     "name": "stdout",
     "output_type": "stream",
     "text": [
      "159\r"
     ]
    }
   ],
   "source": [
    "list_scale = []\n",
    "list_scale_std = []\n",
    "for data_idx in range(160):\n",
    "    print(data_idx, end='\\r')\n",
    "    src_bgra = src_frame_dir + '/{:05d}.png'.format(data_idx)\n",
    "    src_depth_gt = src_gt_dir + '/{:05d}.bmp'.format(data_idx)\n",
    "    src_shading = src_shading_dir + '/{:05d}.png'.format(data_idx)\n",
    "    src_depth_gap = src_rec_dir + '/{:05d}.bmp'.format(data_idx)\n",
    "    \n",
    "    depth_img_gap = cv2.imread(src_depth_gap, -1)\n",
    "    depth_gap = depth_tools.unpack_bmp_bgra_to_float(depth_img_gap)\n",
    "\n",
    "    depth_img_gt = cv2.imread(src_depth_gt, -1)\n",
    "    depth_gt = depth_tools.unpack_bmp_bgra_to_float(depth_img_gt)\n",
    "    \n",
    "    difference = depth_gt - depth_gap\n",
    "    \n",
    "    is_gt_available = depth_gt > depth_thre\n",
    "    is_depth_close = np.logical_and(np.abs(difference) < difference_threshold,\n",
    "                                is_gt_available)\n",
    "    mask = is_depth_close.astype(np.float32)\n",
    "    length = np.sum(mask)\n",
    "    \n",
    "    mean_difference = np.sum(difference * mask) / length\n",
    "    difference = (difference - mean_difference)*mask*1000\n",
    "    \n",
    "    mean_diff = np.sum(difference * mask) / length\n",
    "    list_scale.append(mean_diff)\n",
    "    \n",
    "    mean_difference = np.sum(difference * mask) / length\n",
    "    var_difference = np.sum(np.square((difference - mean_difference)*mask)) / length\n",
    "    std_difference = np.sqrt(var_difference)\n",
    "    difference = (difference - mean_difference) / std_difference\n",
    "    difference *= std_difference\n",
    "    difference *= mask\n",
    "    \n",
    "    list_scale_std.append(std_difference)"
   ]
  },
  {
   "cell_type": "code",
   "execution_count": 30,
   "metadata": {},
   "outputs": [
    {
     "data": {
      "text/plain": [
       "[1.783266072041501,\n",
       " 2.118695136620736,\n",
       " 0.985312222913682,\n",
       " 1.6438662164986209,\n",
       " 2.1183852474033817,\n",
       " 2.235400458816463,\n",
       " 2.9072692093503294,\n",
       " 1.8537325704650214,\n",
       " 2.920080537028756,\n",
       " 1.370273010676267]"
      ]
     },
     "execution_count": 30,
     "metadata": {},
     "output_type": "execute_result"
    }
   ],
   "source": [
    "list_scale_std[:10]"
   ]
  },
  {
   "cell_type": "code",
   "execution_count": 31,
   "metadata": {},
   "outputs": [
    {
     "data": {
      "text/plain": [
       "1.9195375434992095"
      ]
     },
     "execution_count": 31,
     "metadata": {},
     "output_type": "execute_result"
    }
   ],
   "source": [
    "np.mean(list_scale_std)"
   ]
  },
  {
   "cell_type": "code",
   "execution_count": null,
   "metadata": {},
   "outputs": [],
   "source": []
  }
 ],
 "metadata": {
  "kernelspec": {
   "display_name": "Python 3",
   "language": "python",
   "name": "python3"
  },
  "language_info": {
   "codemirror_mode": {
    "name": "ipython",
    "version": 3
   },
   "file_extension": ".py",
   "mimetype": "text/x-python",
   "name": "python",
   "nbconvert_exporter": "python",
   "pygments_lexer": "ipython3",
   "version": "3.6.8"
  }
 },
 "nbformat": 4,
 "nbformat_minor": 2
}
