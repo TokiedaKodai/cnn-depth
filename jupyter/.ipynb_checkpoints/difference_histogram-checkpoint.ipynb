{
 "cells": [
  {
   "cell_type": "code",
   "execution_count": 1,
   "metadata": {},
   "outputs": [],
   "source": [
    "import depth_tools\n",
    "import cv2\n",
    "import numpy as np"
   ]
  },
  {
   "cell_type": "code",
   "execution_count": 2,
   "metadata": {},
   "outputs": [],
   "source": [
    "src_dir = '../../data/render_wave1-norm'\n",
    "src_dir = '../../data/input_200318'\n",
    "\n",
    "src_frame_dir = src_dir + '/proj'\n",
    "src_gt_dir = src_dir + '/gt'\n",
    "src_shading_dir = src_dir + '/shade'\n",
    "src_rec_dir = src_dir + '/rec'\n",
    "\n",
    "src_rec_dir = src_dir + '/rec'\n",
    "src_rec_dir = src_dir + '/rec_ajusted'\n",
    "src_frame_dir = src_dir + '/frame'\n",
    "src_gt_dir = src_dir + '/gt'\n",
    "src_shading_dir = src_dir + '/shading'"
   ]
  },
  {
   "cell_type": "code",
   "execution_count": 3,
   "metadata": {},
   "outputs": [],
   "source": [
    "depth_thre = 0.2\n",
    "difference_threshold = 0.01\n",
    "\n",
    "num = 100\n",
    "num = 48\n",
    "\n",
    "list_diff = []\n",
    "list_std = []\n",
    "list_norm = []"
   ]
  },
  {
   "cell_type": "code",
   "execution_count": 4,
   "metadata": {},
   "outputs": [
    {
     "name": "stdout",
     "output_type": "stream",
     "text": [
      "47\r"
     ]
    }
   ],
   "source": [
    "for data_idx in range(num):\n",
    "    print(data_idx, end='\\r')\n",
    "    \n",
    "#     src_bgra = src_frame_dir + '/{:05d}.png'.format(data_idx)\n",
    "#     src_depth_gt = src_gt_dir + '/{:05d}.bmp'.format(data_idx)\n",
    "#     src_shading = src_shading_dir + '/{:05d}.png'.format(data_idx)\n",
    "#     src_depth_gap = src_rec_dir + '/{:05d}.bmp'.format(data_idx)\n",
    "    \n",
    "    src_bgra = src_frame_dir + '/frame{:03d}.png'.format(data_idx)\n",
    "    # src_depth_gap = src_rec_dir + '/depth{:03d}.png'.format(data_idx)\n",
    "    src_depth_gap = src_rec_dir + '/depth{:03d}.bmp'.format(data_idx)\n",
    "    src_depth_gt = src_gt_dir + '/gt{:03d}.bmp'.format(data_idx)\n",
    "    # src_shading = src_shading_dir + '/shading{:03d}.png'.format(data_idx)\n",
    "    src_shading = src_shading_dir + '/shading{:03d}.bmp'.format(data_idx)\n",
    "    \n",
    "    depth_img_gap = cv2.imread(src_depth_gap, -1)\n",
    "    depth_gap = depth_tools.unpack_bmp_bgra_to_float(depth_img_gap)\n",
    "\n",
    "    depth_img_gt = cv2.imread(src_depth_gt, -1)\n",
    "    depth_gt = depth_tools.unpack_bmp_bgra_to_float(depth_img_gt)\n",
    "    \n",
    "    difference = depth_gt - depth_gap\n",
    "    \n",
    "    is_rec_available = depth_gap > depth_thre\n",
    "    is_depth_close = np.logical_and(np.abs(difference) < difference_threshold,\n",
    "                                is_rec_available)\n",
    "    mask = is_depth_close.astype(np.float32)\n",
    "    \n",
    "    length = np.sum(mask)\n",
    "    \n",
    "    mean_diff = np.sum(difference * mask) / length\n",
    "    list_diff.append(mean_diff)\n",
    "    \n",
    "    mean_difference = np.sum(difference * mask) / length\n",
    "    var_difference = np.sum(np.square((difference - mean_difference)*mask)) / length\n",
    "    std_difference = np.sqrt(var_difference)\n",
    "    difference = (difference - mean_difference) / std_difference\n",
    "    difference *= std_difference\n",
    "    difference *= mask\n",
    "    \n",
    "    list_std.append(std_difference)\n",
    "    \n",
    "    mean_diff = np.sum(difference) / length\n",
    "    list_norm.append(mean_diff)"
   ]
  },
  {
   "cell_type": "code",
   "execution_count": 5,
   "metadata": {},
   "outputs": [
    {
     "data": {
      "text/plain": [
       "[-3.33844498403217e-05,\n",
       " -4.178290926610504e-05,\n",
       " -4.505951551646128e-05,\n",
       " -4.728941437199354e-05,\n",
       " -5.422540936541288e-07,\n",
       " -4.104109064535026e-05,\n",
       " -3.2167709149393534e-07,\n",
       " -5.0071160958621515e-05,\n",
       " -2.988920789589518e-08,\n",
       " 1.2390328556753473e-05]"
      ]
     },
     "execution_count": 5,
     "metadata": {},
     "output_type": "execute_result"
    }
   ],
   "source": [
    "list_diff[:10]"
   ]
  },
  {
   "cell_type": "code",
   "execution_count": 6,
   "metadata": {},
   "outputs": [
    {
     "data": {
      "text/plain": [
       "[7.457335144006085e-20,\n",
       " -3.974156171195009e-20,\n",
       " -4.93674422499467e-20,\n",
       " 2.2212820021390053e-20,\n",
       " -1.5653966992891624e-20,\n",
       " 3.84734137106734e-20,\n",
       " 2.596366038483638e-20,\n",
       " 6.785887929722423e-21,\n",
       " -1.103767961285263e-19,\n",
       " -5.040431413414299e-20]"
      ]
     },
     "execution_count": 6,
     "metadata": {},
     "output_type": "execute_result"
    }
   ],
   "source": [
    "list_norm[:10]"
   ]
  },
  {
   "cell_type": "code",
   "execution_count": 7,
   "metadata": {},
   "outputs": [
    {
     "data": {
      "text/plain": [
       "[0.0009625735748622407,\n",
       " 0.0011424757720496109,\n",
       " 0.0010638565374135503,\n",
       " 0.001100154252621699,\n",
       " 0.0008686382010921161,\n",
       " 0.00114980150954229,\n",
       " 0.0009253310793593323,\n",
       " 0.001041497674527429,\n",
       " 0.0007826346621268379,\n",
       " 0.0009980470702388997]"
      ]
     },
     "execution_count": 7,
     "metadata": {},
     "output_type": "execute_result"
    }
   ],
   "source": [
    "list_std[:10]"
   ]
  },
  {
   "cell_type": "code",
   "execution_count": 8,
   "metadata": {},
   "outputs": [
    {
     "data": {
      "text/plain": [
       "0.0009398575157782071"
      ]
     },
     "execution_count": 8,
     "metadata": {},
     "output_type": "execute_result"
    }
   ],
   "source": [
    "np.mean(list_std)"
   ]
  },
  {
   "cell_type": "code",
   "execution_count": null,
   "metadata": {},
   "outputs": [],
   "source": []
  },
  {
   "cell_type": "code",
   "execution_count": 9,
   "metadata": {},
   "outputs": [],
   "source": [
    "string = ''\n",
    "for i in range(num):\n",
    "    string += str(i) + ',' + str(list_std[i]) + '\\n'\n",
    "# with open('list_sd_wave1-norm_100.txt', mode='w') as f:\n",
    "with open('list_sd_board.txt', mode='w') as f:\n",
    "    f.write(string)"
   ]
  },
  {
   "cell_type": "code",
   "execution_count": 10,
   "metadata": {},
   "outputs": [
    {
     "data": {
      "text/plain": [
       "[0, 0, 0, 7, 27, 12, 2, 0, 0, 0, 0, 0, 0, 0, 0, 0, 0, 0, 0, 0]"
      ]
     },
     "execution_count": 10,
     "metadata": {},
     "output_type": "execute_result"
    }
   ],
   "source": [
    "list_hist = [0, 0, 0, 0, 0, 0, 0, 0, 0, 0, 0, 0, 0, 0, 0, 0, 0, 0, 0, 0]\n",
    "hist_num = 20\n",
    "\n",
    "# list_hist = [0, 0, 0, 0, 0, 0, 0, 0, 0, 0, 0, 0, 0, 0, 0, 0, 0, 0, 0, 0, 0, 0, 0, 0, 0, 0, 0, 0, 0, 0]\n",
    "# hist_num = 30\n",
    "\n",
    "inter = 0.0002\n",
    "for i in range(num):\n",
    "    for j in range(hist_num):\n",
    "        if (list_std[i] > inter*j) and (list_std[i] < inter*(j+1)):\n",
    "            list_hist[j] += 1\n",
    "list_hist"
   ]
  },
  {
   "cell_type": "code",
   "execution_count": 11,
   "metadata": {},
   "outputs": [
    {
     "data": {
      "text/plain": [
       "48"
      ]
     },
     "execution_count": 11,
     "metadata": {},
     "output_type": "execute_result"
    }
   ],
   "source": [
    "np.sum(np.array(list_hist))"
   ]
  },
  {
   "cell_type": "code",
   "execution_count": 12,
   "metadata": {},
   "outputs": [],
   "source": [
    "str_hist = ''\n",
    "scale = inter*1000\n",
    "for i in range(hist_num):\n",
    "    str_hist += '{:.01f} - {:.01f},{}\\n'.format(scale*i, scale*(i+1), list_hist[i])\n",
    "# with open('hist_sd_wave1-norm_100.txt', mode='w') as f:\n",
    "with open('hist_sd_board.txt', mode='w') as f:\n",
    "    f.write(str_hist)"
   ]
  },
  {
   "cell_type": "code",
   "execution_count": null,
   "metadata": {},
   "outputs": [],
   "source": []
  },
  {
   "cell_type": "code",
   "execution_count": 103,
   "metadata": {},
   "outputs": [
    {
     "data": {
      "text/plain": [
       "(-5, 5)"
      ]
     },
     "execution_count": 103,
     "metadata": {},
     "output_type": "execute_result"
    },
    {
     "data": {
      "image/png": "[encoded data removed]",
      "text/plain": [
       "<Figure size 432x288 with 1 Axes>"
      ]
     },
     "metadata": {
      "needs_background": "light"
     },
     "output_type": "display_data"
    }
   ],
   "source": [
    "import matplotlib.pyplot as plt\n",
    "\n",
    "norms = np.random.normal(\n",
    "            loc = 0,\n",
    "            scale = 1,\n",
    "            size = 200)\n",
    "plt.hist(norms ,bins=50)\n",
    "plt.xlim(-5, 5)"
   ]
  },
  {
   "cell_type": "code",
   "execution_count": 104,
   "metadata": {},
   "outputs": [
    {
     "data": {
      "text/plain": [
       "(-1, 2)"
      ]
     },
     "execution_count": 104,
     "metadata": {},
     "output_type": "execute_result"
    },
    {
     "data": {
      "image/png": "[encoded data removed]",
      "text/plain": [
       "<Figure size 432x288 with 1 Axes>"
      ]
     },
     "metadata": {
      "needs_background": "light"
     },
     "output_type": "display_data"
    }
   ],
   "source": [
    "height_norms = norms - np.min(norms)\n",
    "height_norms /= np.max(height_norms)\n",
    "plt.hist(height_norms ,bins=50)\n",
    "plt.xlim(-1, 2)"
   ]
  },
  {
   "cell_type": "code",
   "execution_count": 105,
   "metadata": {},
   "outputs": [
    {
     "data": {
      "image/png": "[encoded data removed]",
      "text/plain": [
       "<Figure size 432x288 with 1 Axes>"
      ]
     },
     "metadata": {
      "needs_background": "light"
     },
     "output_type": "display_data"
    }
   ],
   "source": [
    "height_norms = norms - np.min(norms)\n",
    "height_norms = height_norms / np.max(height_norms) * 0.005\n",
    "plt.hist(height_norms ,bins=50)\n",
    "plt.xlim(-0.005, 0.01)\n",
    "plt.savefig('hist_norm.png')"
   ]
  },
  {
   "cell_type": "code",
   "execution_count": 127,
   "metadata": {},
   "outputs": [
    {
     "data": {
      "text/plain": [
       "(-0.005, 0.015)"
      ]
     },
     "execution_count": 127,
     "metadata": {},
     "output_type": "execute_result"
    },
    {
     "data": {
      "image/png": "[encoded data removed]",
      "text/plain": [
       "<Figure size 432x288 with 1 Axes>"
      ]
     },
     "metadata": {
      "needs_background": "light"
     },
     "output_type": "display_data"
    }
   ],
   "source": [
    "avg_height = 0.005\n",
    "norms = np.random.normal(\n",
    "            loc = avg_height,\n",
    "            scale = avg_height / 4,\n",
    "            size = 200)\n",
    "plt.hist(norms ,bins=50)\n",
    "plt.xlim(-0.005, 0.015)"
   ]
  },
  {
   "cell_type": "code",
   "execution_count": null,
   "metadata": {},
   "outputs": [],
   "source": []
  }
 ],
 "metadata": {
  "kernelspec": {
   "display_name": "Python 3",
   "language": "python",
   "name": "python3"
  },
  "language_info": {
   "codemirror_mode": {
    "name": "ipython",
    "version": 3
   },
   "file_extension": ".py",
   "mimetype": "text/x-python",
   "name": "python",
   "nbconvert_exporter": "python",
   "pygments_lexer": "ipython3",
   "version": "3.6.8"
  }
 },
 "nbformat": 4,
 "nbformat_minor": 2
}
