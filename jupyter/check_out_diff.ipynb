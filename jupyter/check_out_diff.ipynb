{
 "cells": [
  {
   "cell_type": "code",
   "execution_count": 1,
   "metadata": {},
   "outputs": [],
   "source": [
    "import depth_tools\n",
    "import cv2\n",
    "import numpy as np"
   ]
  },
  {
   "cell_type": "code",
   "execution_count": 2,
   "metadata": {},
   "outputs": [],
   "source": [
    "out_dir = '../../output/output_vaug_half_x4_dif-norm/predict_200/net_output'"
   ]
  },
  {
   "cell_type": "code",
   "execution_count": 3,
   "metadata": {},
   "outputs": [],
   "source": [
    "diff = np.load(out_dir + '/00160.npy')"
   ]
  },
  {
   "cell_type": "code",
   "execution_count": 4,
   "metadata": {},
   "outputs": [
    {
     "data": {
      "text/plain": [
       "(1200, 1200)"
      ]
     },
     "execution_count": 4,
     "metadata": {},
     "output_type": "execute_result"
    }
   ],
   "source": [
    "diff.shape"
   ]
  },
  {
   "cell_type": "code",
   "execution_count": 5,
   "metadata": {},
   "outputs": [
    {
     "data": {
      "text/plain": [
       "array([[-1.1887344 , -0.9760815 , -0.6039663 , -0.20867635,  0.18030581,\n",
       "         0.43786806,  0.55490464,  0.48072636,  0.2321503 , -0.12787972],\n",
       "       [-1.2385081 , -1.1256315 , -0.8317573 , -0.45574665, -0.03672536,\n",
       "         0.288334  ,  0.50938386,  0.5450624 ,  0.40083724,  0.09747437],\n",
       "       [-1.153065  , -1.1889247 , -1.0344331 , -0.73636866, -0.33196563,\n",
       "         0.03694135,  0.34941804,  0.5027776 ,  0.4912048 ,  0.29642132],\n",
       "       [-1.0398697 , -1.1902938 , -1.1686815 , -0.9514488 , -0.5884915 ,\n",
       "        -0.20375304,  0.17415613,  0.42017442,  0.528382  ,  0.4363181 ],\n",
       "       [-0.78981113, -1.0543693 , -1.1896727 , -1.1140043 , -0.8549862 ,\n",
       "        -0.5044297 , -0.09950109,  0.22137609,  0.44271415,  0.47682667],\n",
       "       [-0.55702853, -0.90114164, -1.1574417 , -1.1959991 , -1.0516083 ,\n",
       "        -0.7541483 , -0.35545796,  0.00896876,  0.32270584,  0.46523598],\n",
       "       [-0.25727862, -0.63190573, -0.98299575, -1.1568356 , -1.169195  ,\n",
       "        -0.990847  , -0.6554274 , -0.2880537 ,  0.09017445,  0.33566856],\n",
       "       [ 0.00158364, -0.3830219 , -0.7885635 , -1.0609792 , -1.2071519 ,\n",
       "        -1.1353546 , -0.8924413 , -0.54990274, -0.14752658,  0.16770318],\n",
       "       [ 0.24458842, -0.08029501, -0.48703063, -0.83038163, -1.1095362 ,\n",
       "        -1.1893202 , -1.095961  , -0.8453479 , -0.46828675, -0.11428131],\n",
       "       [ 0.4227904 ,  0.16130133, -0.22001003, -0.60931456, -0.97752416,\n",
       "        -1.1704434 , -1.2119919 , -1.0494244 , -0.7304145 , -0.36788368]],\n",
       "      dtype=float32)"
      ]
     },
     "execution_count": 5,
     "metadata": {},
     "output_type": "execute_result"
    }
   ],
   "source": [
    "diff[600:610, 700:710]"
   ]
  },
  {
   "cell_type": "code",
   "execution_count": 6,
   "metadata": {},
   "outputs": [
    {
     "data": {
      "text/plain": [
       "260.0163"
      ]
     },
     "execution_count": 6,
     "metadata": {},
     "output_type": "execute_result"
    }
   ],
   "source": [
    "np.max(diff)"
   ]
  },
  {
   "cell_type": "code",
   "execution_count": 7,
   "metadata": {},
   "outputs": [
    {
     "data": {
      "text/plain": [
       "-13.73355"
      ]
     },
     "execution_count": 7,
     "metadata": {},
     "output_type": "execute_result"
    }
   ],
   "source": [
    "np.min(diff)"
   ]
  },
  {
   "cell_type": "code",
   "execution_count": 8,
   "metadata": {},
   "outputs": [
    {
     "data": {
      "text/plain": [
       "3.1076121"
      ]
     },
     "execution_count": 8,
     "metadata": {},
     "output_type": "execute_result"
    }
   ],
   "source": [
    "np.mean(diff)"
   ]
  },
  {
   "cell_type": "code",
   "execution_count": 24,
   "metadata": {},
   "outputs": [
    {
     "data": {
      "text/plain": [
       "(1200, 1200)"
      ]
     },
     "execution_count": 24,
     "metadata": {},
     "output_type": "execute_result"
    }
   ],
   "source": [
    "new_diff = np.where(np.abs(diff) < 2, diff, 0)\n",
    "new_diff.shape"
   ]
  },
  {
   "cell_type": "code",
   "execution_count": 25,
   "metadata": {},
   "outputs": [
    {
     "data": {
      "text/plain": [
       "-1.9978851"
      ]
     },
     "execution_count": 25,
     "metadata": {},
     "output_type": "execute_result"
    }
   ],
   "source": [
    "np.min(new_diff)"
   ]
  },
  {
   "cell_type": "code",
   "execution_count": 26,
   "metadata": {},
   "outputs": [
    {
     "data": {
      "text/plain": [
       "1.9984635"
      ]
     },
     "execution_count": 26,
     "metadata": {},
     "output_type": "execute_result"
    }
   ],
   "source": [
    "np.max(new_diff)"
   ]
  },
  {
   "cell_type": "code",
   "execution_count": 27,
   "metadata": {},
   "outputs": [
    {
     "data": {
      "text/plain": [
       "-0.1558136"
      ]
     },
     "execution_count": 27,
     "metadata": {},
     "output_type": "execute_result"
    }
   ],
   "source": [
    "np.mean(new_diff)"
   ]
  },
  {
   "cell_type": "code",
   "execution_count": 30,
   "metadata": {},
   "outputs": [
    {
     "data": {
      "text/plain": [
       "array([[-1.18873445e-02, -9.76081472e-03, -6.03966275e-03,\n",
       "        -2.08676350e-03,  1.80305808e-03,  4.37868061e-03,\n",
       "         5.54904621e-03,  4.80726361e-03,  2.32150313e-03,\n",
       "        -1.27879728e-03],\n",
       "       [-1.23850815e-02, -1.12563148e-02, -8.31757300e-03,\n",
       "        -4.55746660e-03, -3.67253582e-04,  2.88334023e-03,\n",
       "         5.09383855e-03,  5.45062404e-03,  4.00837231e-03,\n",
       "         9.74743685e-04],\n",
       "       [-1.15306498e-02, -1.18892463e-02, -1.03443312e-02,\n",
       "        -7.36368634e-03, -3.31965624e-03,  3.69413494e-04,\n",
       "         3.49418051e-03,  5.02777565e-03,  4.91204811e-03,\n",
       "         2.96421326e-03],\n",
       "       [-1.03986971e-02, -1.19029377e-02, -1.16868149e-02,\n",
       "        -9.51448828e-03, -5.88491512e-03, -2.03753030e-03,\n",
       "         1.74156134e-03,  4.20174422e-03,  5.28381998e-03,\n",
       "         4.36318107e-03],\n",
       "       [-7.89811090e-03, -1.05436929e-02, -1.18967267e-02,\n",
       "        -1.11400429e-02, -8.54986161e-03, -5.04429685e-03,\n",
       "        -9.95010836e-04,  2.21376098e-03,  4.42714151e-03,\n",
       "         4.76826681e-03],\n",
       "       [-5.57028549e-03, -9.01141670e-03, -1.15744174e-02,\n",
       "        -1.19599914e-02, -1.05160829e-02, -7.54148327e-03,\n",
       "        -3.55457957e-03,  8.96875572e-05,  3.22705833e-03,\n",
       "         4.65235999e-03],\n",
       "       [-2.57278630e-03, -6.31905720e-03, -9.82995704e-03,\n",
       "        -1.15683554e-02, -1.16919503e-02, -9.90847033e-03,\n",
       "        -6.55427389e-03, -2.88053695e-03,  9.01744526e-04,\n",
       "         3.35668563e-03],\n",
       "       [ 1.58363582e-05, -3.83021892e-03, -7.88563490e-03,\n",
       "        -1.06097925e-02, -1.20715192e-02, -1.13535468e-02,\n",
       "        -8.92441254e-03, -5.49902720e-03, -1.47526572e-03,\n",
       "         1.67703186e-03],\n",
       "       [ 2.44588428e-03, -8.02950119e-04, -4.87030623e-03,\n",
       "        -8.30381643e-03, -1.10953618e-02, -1.18932016e-02,\n",
       "        -1.09596094e-02, -8.45347904e-03, -4.68286732e-03,\n",
       "        -1.14281313e-03],\n",
       "       [ 4.22790414e-03,  1.61301333e-03, -2.20010034e-03,\n",
       "        -6.09314581e-03, -9.77524184e-03, -1.17044337e-02,\n",
       "        -1.21199191e-02, -1.04942443e-02, -7.30414502e-03,\n",
       "        -3.67883686e-03]], dtype=float32)"
      ]
     },
     "execution_count": 30,
     "metadata": {},
     "output_type": "execute_result"
    }
   ],
   "source": [
    "new_diff /= 100\n",
    "new_diff[600:610, 700:710]"
   ]
  },
  {
   "cell_type": "code",
   "execution_count": 28,
   "metadata": {},
   "outputs": [],
   "source": [
    "cam_params = {\n",
    "    'focal_length': 0.037009,\n",
    "    'pix_x': 1.25e-05,\n",
    "    'pix_y': 1.2381443057539635e-05,\n",
    "    'center_x': 790.902,\n",
    "    'center_y': 600.635\n",
    "}"
   ]
  },
  {
   "cell_type": "code",
   "execution_count": 31,
   "metadata": {},
   "outputs": [],
   "source": [
    "xyz = depth_tools.convert_depth_to_coords(new_diff + 1, cam_params)\n",
    "depth_tools.dump_ply('out_diff160.ply', xyz.reshape(-1, 3).tolist())"
   ]
  },
  {
   "cell_type": "code",
   "execution_count": null,
   "metadata": {},
   "outputs": [],
   "source": []
  }
 ],
 "metadata": {
  "kernelspec": {
   "display_name": "Python 3",
   "language": "python",
   "name": "python3"
  },
  "language_info": {
   "codemirror_mode": {
    "name": "ipython",
    "version": 3
   },
   "file_extension": ".py",
   "mimetype": "text/x-python",
   "name": "python",
   "nbconvert_exporter": "python",
   "pygments_lexer": "ipython3",
   "version": "3.6.8"
  }
 },
 "nbformat": 4,
 "nbformat_minor": 2
}
